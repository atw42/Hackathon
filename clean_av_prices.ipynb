{
 "cells": [
  {
   "cell_type": "markdown",
   "id": "3c30dafb",
   "metadata": {},
   "source": [
    "This script cleans the Average-prices-2021-11.csv file found on https://www.gov.uk/government/statistical-data-sets/uk-house-price-index-data-downloads-january-2021. Specifically, the date column is converted to a date type and is then sorted in ascending order.\n",
    "\n",
    "More information about this data set can be found pmn:\n",
    "\n",
    "https://www.gov.uk/government/publications/about-the-uk-house-price-index/about-the-uk-house-price-index\n",
    "\n",
    "https://www.gov.uk/government/publications/about-the-uk-house-price-index/about-the-uk-house-price-index#data-tables"
   ]
  },
  {
   "cell_type": "code",
   "execution_count": 88,
   "id": "a9a2c50d",
   "metadata": {},
   "outputs": [],
   "source": [
    "import pandas as pd\n",
    "#import datetime\n",
    "print(\"ugvs\")"
   ]
  },
  {
   "cell_type": "code",
   "execution_count": 89,
   "id": "cef368b9",
   "metadata": {},
   "outputs": [],
   "source": [
    "prices=pd.read_csv(\"Average-prices-2021-11.csv\")\n"
   ]
  },
  {
   "cell_type": "code",
   "execution_count": 95,
   "id": "163cc67d",
   "metadata": {
    "scrolled": true
   },
   "outputs": [],
   "source": [
    "#Convert Date colum to date type\n",
    "prices[\"Date\"]=pd.to_datetime(prices['Date'], format=\"%d/%m/%Y\")\n",
    "#prices.head()"
   ]
  },
  {
   "cell_type": "code",
   "execution_count": 91,
   "id": "4abe65aa",
   "metadata": {},
   "outputs": [],
   "source": [
    "#prices.isna().sum()"
   ]
  },
  {
   "cell_type": "code",
   "execution_count": 92,
   "id": "7157abc8",
   "metadata": {
    "scrolled": false
   },
   "outputs": [],
   "source": [
    "#sort date column\n",
    "prices=prices.sort_values(\"Date\")\n"
   ]
  },
  {
   "cell_type": "code",
   "execution_count": 93,
   "id": "de9ce6a8",
   "metadata": {},
   "outputs": [],
   "source": [
    "prices.to_csv(\"Average-prices-2021-11-cleaned.csv\")"
   ]
  }
 ],
 "metadata": {
  "kernelspec": {
   "display_name": "Python 3 (ipykernel)",
   "language": "python",
   "name": "python3"
  },
  "language_info": {
   "codemirror_mode": {
    "name": "ipython",
    "version": 3
   },
   "file_extension": ".py",
   "mimetype": "text/x-python",
   "name": "python",
   "nbconvert_exporter": "python",
   "pygments_lexer": "ipython3",
   "version": "3.9.7"
  }
 },
 "nbformat": 4,
 "nbformat_minor": 5
}
